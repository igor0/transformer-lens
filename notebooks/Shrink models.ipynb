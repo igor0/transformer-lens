{
 "cells": [
  {
   "cell_type": "code",
   "execution_count": null,
   "id": "2703a5c9",
   "metadata": {},
   "outputs": [],
   "source": [
    "!pip install transformers torch"
   ]
  },
  {
   "cell_type": "code",
   "execution_count": null,
   "id": "4ebd4376",
   "metadata": {},
   "outputs": [],
   "source": [
    "from transformers import GPT2LMHeadModel, GPT2Tokenizer\n",
    "import torch\n",
    "import copy\n",
    "import os\n",
    "\n",
    "config = 'gpt2-medium'\n",
    "tokenizer = GPT2Tokenizer.from_pretrained(\"gpt2\")\n",
    "model = GPT2LMHeadModel.from_pretrained(config)"
   ]
  },
  {
   "cell_type": "code",
   "execution_count": null,
   "id": "663c6cc4",
   "metadata": {
    "scrolled": false
   },
   "outputs": [],
   "source": [
    "def shrink_model(model, layers):\n",
    "    model = copy.deepcopy(model)\n",
    "    model.base_model._modules['h'] = copy.copy(model.base_model._modules['h'][0:i+1])\n",
    "    return model\n",
    "\n",
    "def freeze_model(m):\n",
    "    layer_count = len(m.base_model._modules['h'])\n",
    "    for name, param in m.named_parameters():\n",
    "        should_tune = name.startswith(\"transformer.h.{}.mlp.c_proj\".format(layer_count-1))\n",
    "        param.requires_grad = should_tune\n",
    "        m.config.n_layer = layer_count\n",
    "    return layer_count\n",
    "\n",
    "def save_model(m, layer_count):\n",
    "    output_dir = \"/tmp/models/{}.layers.{}\".format(config, layer_count)\n",
    "    os.mkdir(output_dir)\n",
    "\n",
    "    m.save_pretrained(output_dir)\n",
    "    print(\"Wrote\", output_dir)\n",
    "\n",
    "    def validate_model(m):\n",
    "    input_ids = tokenizer.encode(\"How are\", return_tensors=\"pt\")\n",
    "    print(tokenizer.decode(m.generate(input_ids, pad_token_id=50256).tolist()[0]))\n",
    "    print(\"---------\")"
   ]
  },
  {
   "cell_type": "code",
   "execution_count": null,
   "id": "16523a56",
   "metadata": {},
   "outputs": [],
   "source": [
    "for i in range(8, len(model.base_model._modules['h'])):\n",
    "    m = shrink_model(model, i+1)\n",
    "    layer_count = freeze_model(m)\n",
    "    save_model(m, layer_count)\n",
    "    del m"
   ]
  }
 ],
 "metadata": {
  "kernelspec": {
   "display_name": "Python 3",
   "language": "python",
   "name": "python3"
  },
  "language_info": {
   "codemirror_mode": {
    "name": "ipython",
    "version": 3
   },
   "file_extension": ".py",
   "mimetype": "text/x-python",
   "name": "python",
   "nbconvert_exporter": "python",
   "pygments_lexer": "ipython3",
   "version": "3.7.12"
  }
 },
 "nbformat": 4,
 "nbformat_minor": 5
}
